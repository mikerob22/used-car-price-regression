{
 "cells": [
  {
   "cell_type": "markdown",
   "metadata": {},
   "source": [
    "# Used Car Price Regression Dataset - Kaggle Competition\n",
    "\n",
    "Overview\n",
    "Welcome to the 2024 Kaggle Playground Series! We plan to continue in the spirit of previous playgrounds, providing interesting an approachable datasets for our community to practice their machine learning skills, and anticipate a competition each month.\n",
    "\n",
    "Your Goal: **The goal of this competition is to predict the price of used cars based on various attributes**."
   ]
  },
  {
   "cell_type": "markdown",
   "metadata": {},
   "source": [
    "## About the dataset\n",
    "\n",
    "**features**\n",
    "- ```id```: id of the car, not very important\n",
    "- ```brand```: brand of the car\n",
    "- ```model```: model of the car\n",
    "- ```model_year```: year the model was made\n",
    "- ```milage```: total miles on the car\n",
    "- ```fuel_type```: type of fuel the car takes\n",
    "- ```engine```: type of engine on the car\n",
    "- ```transmission```: type of transmission on the car\n",
    "- ```ext_col```: exterior color\n",
    "- ```int_col```: interior color\n",
    "- ```accident```: accidents the car has had in the past\n",
    "- ```clean_title```: is the title clean \n",
    "\n",
    "**target variable**\n",
    "- ```price```: price of the car\n"
   ]
  },
  {
   "cell_type": "code",
   "execution_count": 1,
   "metadata": {},
   "outputs": [],
   "source": [
    "import pandas as pd\n",
    "import numpy as np\n",
    "import matplotlib.pyplot as plt\n",
    "import seaborn as sns\n",
    "from sklearn.preprocessing import OneHotEncoder, StandardScaler\n",
    "from category_encoders import TargetEncoder"
   ]
  },
  {
   "cell_type": "code",
   "execution_count": 2,
   "metadata": {},
   "outputs": [
    {
     "data": {
      "text/html": [
       "<div>\n",
       "<style scoped>\n",
       "    .dataframe tbody tr th:only-of-type {\n",
       "        vertical-align: middle;\n",
       "    }\n",
       "\n",
       "    .dataframe tbody tr th {\n",
       "        vertical-align: top;\n",
       "    }\n",
       "\n",
       "    .dataframe thead th {\n",
       "        text-align: right;\n",
       "    }\n",
       "</style>\n",
       "<table border=\"1\" class=\"dataframe\">\n",
       "  <thead>\n",
       "    <tr style=\"text-align: right;\">\n",
       "      <th></th>\n",
       "      <th>id</th>\n",
       "      <th>brand</th>\n",
       "      <th>model</th>\n",
       "      <th>model_year</th>\n",
       "      <th>milage</th>\n",
       "      <th>fuel_type</th>\n",
       "      <th>engine</th>\n",
       "      <th>transmission</th>\n",
       "      <th>ext_col</th>\n",
       "      <th>int_col</th>\n",
       "      <th>accident</th>\n",
       "      <th>clean_title</th>\n",
       "      <th>price</th>\n",
       "    </tr>\n",
       "  </thead>\n",
       "  <tbody>\n",
       "    <tr>\n",
       "      <th>0</th>\n",
       "      <td>0</td>\n",
       "      <td>MINI</td>\n",
       "      <td>Cooper S Base</td>\n",
       "      <td>2007</td>\n",
       "      <td>213000</td>\n",
       "      <td>Gasoline</td>\n",
       "      <td>172.0HP 1.6L 4 Cylinder Engine Gasoline Fuel</td>\n",
       "      <td>A/T</td>\n",
       "      <td>Yellow</td>\n",
       "      <td>Gray</td>\n",
       "      <td>None reported</td>\n",
       "      <td>Yes</td>\n",
       "      <td>4200</td>\n",
       "    </tr>\n",
       "    <tr>\n",
       "      <th>1</th>\n",
       "      <td>1</td>\n",
       "      <td>Lincoln</td>\n",
       "      <td>LS V8</td>\n",
       "      <td>2002</td>\n",
       "      <td>143250</td>\n",
       "      <td>Gasoline</td>\n",
       "      <td>252.0HP 3.9L 8 Cylinder Engine Gasoline Fuel</td>\n",
       "      <td>A/T</td>\n",
       "      <td>Silver</td>\n",
       "      <td>Beige</td>\n",
       "      <td>At least 1 accident or damage reported</td>\n",
       "      <td>Yes</td>\n",
       "      <td>4999</td>\n",
       "    </tr>\n",
       "    <tr>\n",
       "      <th>2</th>\n",
       "      <td>2</td>\n",
       "      <td>Chevrolet</td>\n",
       "      <td>Silverado 2500 LT</td>\n",
       "      <td>2002</td>\n",
       "      <td>136731</td>\n",
       "      <td>E85 Flex Fuel</td>\n",
       "      <td>320.0HP 5.3L 8 Cylinder Engine Flex Fuel Capab...</td>\n",
       "      <td>A/T</td>\n",
       "      <td>Blue</td>\n",
       "      <td>Gray</td>\n",
       "      <td>None reported</td>\n",
       "      <td>Yes</td>\n",
       "      <td>13900</td>\n",
       "    </tr>\n",
       "    <tr>\n",
       "      <th>3</th>\n",
       "      <td>3</td>\n",
       "      <td>Genesis</td>\n",
       "      <td>G90 5.0 Ultimate</td>\n",
       "      <td>2017</td>\n",
       "      <td>19500</td>\n",
       "      <td>Gasoline</td>\n",
       "      <td>420.0HP 5.0L 8 Cylinder Engine Gasoline Fuel</td>\n",
       "      <td>Transmission w/Dual Shift Mode</td>\n",
       "      <td>Black</td>\n",
       "      <td>Black</td>\n",
       "      <td>None reported</td>\n",
       "      <td>Yes</td>\n",
       "      <td>45000</td>\n",
       "    </tr>\n",
       "    <tr>\n",
       "      <th>4</th>\n",
       "      <td>4</td>\n",
       "      <td>Mercedes-Benz</td>\n",
       "      <td>Metris Base</td>\n",
       "      <td>2021</td>\n",
       "      <td>7388</td>\n",
       "      <td>Gasoline</td>\n",
       "      <td>208.0HP 2.0L 4 Cylinder Engine Gasoline Fuel</td>\n",
       "      <td>7-Speed A/T</td>\n",
       "      <td>Black</td>\n",
       "      <td>Beige</td>\n",
       "      <td>None reported</td>\n",
       "      <td>Yes</td>\n",
       "      <td>97500</td>\n",
       "    </tr>\n",
       "  </tbody>\n",
       "</table>\n",
       "</div>"
      ],
      "text/plain": [
       "   id          brand              model  model_year  milage      fuel_type  \\\n",
       "0   0           MINI      Cooper S Base        2007  213000       Gasoline   \n",
       "1   1        Lincoln              LS V8        2002  143250       Gasoline   \n",
       "2   2      Chevrolet  Silverado 2500 LT        2002  136731  E85 Flex Fuel   \n",
       "3   3        Genesis   G90 5.0 Ultimate        2017   19500       Gasoline   \n",
       "4   4  Mercedes-Benz        Metris Base        2021    7388       Gasoline   \n",
       "\n",
       "                                              engine  \\\n",
       "0       172.0HP 1.6L 4 Cylinder Engine Gasoline Fuel   \n",
       "1       252.0HP 3.9L 8 Cylinder Engine Gasoline Fuel   \n",
       "2  320.0HP 5.3L 8 Cylinder Engine Flex Fuel Capab...   \n",
       "3       420.0HP 5.0L 8 Cylinder Engine Gasoline Fuel   \n",
       "4       208.0HP 2.0L 4 Cylinder Engine Gasoline Fuel   \n",
       "\n",
       "                     transmission ext_col int_col  \\\n",
       "0                             A/T  Yellow    Gray   \n",
       "1                             A/T  Silver   Beige   \n",
       "2                             A/T    Blue    Gray   \n",
       "3  Transmission w/Dual Shift Mode   Black   Black   \n",
       "4                     7-Speed A/T   Black   Beige   \n",
       "\n",
       "                                 accident clean_title  price  \n",
       "0                           None reported         Yes   4200  \n",
       "1  At least 1 accident or damage reported         Yes   4999  \n",
       "2                           None reported         Yes  13900  \n",
       "3                           None reported         Yes  45000  \n",
       "4                           None reported         Yes  97500  "
      ]
     },
     "execution_count": 2,
     "metadata": {},
     "output_type": "execute_result"
    }
   ],
   "source": [
    "# read in training data\n",
    "data = pd.read_csv('data/raw/train.csv')\n",
    "data.head()"
   ]
  },
  {
   "cell_type": "code",
   "execution_count": 3,
   "metadata": {},
   "outputs": [
    {
     "name": "stdout",
     "output_type": "stream",
     "text": [
      "<class 'pandas.core.frame.DataFrame'>\n",
      "RangeIndex: 188533 entries, 0 to 188532\n",
      "Data columns (total 13 columns):\n",
      " #   Column        Non-Null Count   Dtype \n",
      "---  ------        --------------   ----- \n",
      " 0   id            188533 non-null  int64 \n",
      " 1   brand         188533 non-null  object\n",
      " 2   model         188533 non-null  object\n",
      " 3   model_year    188533 non-null  int64 \n",
      " 4   milage        188533 non-null  int64 \n",
      " 5   fuel_type     183450 non-null  object\n",
      " 6   engine        188533 non-null  object\n",
      " 7   transmission  188533 non-null  object\n",
      " 8   ext_col       188533 non-null  object\n",
      " 9   int_col       188533 non-null  object\n",
      " 10  accident      186081 non-null  object\n",
      " 11  clean_title   167114 non-null  object\n",
      " 12  price         188533 non-null  int64 \n",
      "dtypes: int64(4), object(9)\n",
      "memory usage: 18.7+ MB\n"
     ]
    }
   ],
   "source": [
    "data.info()"
   ]
  },
  {
   "cell_type": "markdown",
   "metadata": {},
   "source": [
    "Numerical Features\n",
    "- ```id```: id of the car, not very important\n",
    "- ```model_year```: year the model was made\n",
    "- ```milage```: total miles on the car\n",
    "- ```price```: price of the car\n",
    "\n",
    "Categorical Features\n",
    "- ```brand```: brand of the car (MULTICLASS: 57 brands of cars)\n",
    "- ```model```: model of the car (MULTICLASS: 1897 models of cars)\n",
    "- ```fuel_type```: type of fuel the car takes (MULTICLASS: 7 types of fuels)\n",
    "- ```engine```: type of engine on the car (MULTICLASS: 1117 types of engines)\n",
    "- ```transmission```: type of transmission on the car (MULTICLASS: 52 types of transmissions)\n",
    "- ```ext_col```: exterior color (MULTICLASS: 319 types of colors)\n",
    "- ```int_col```: interior color (MULTICLASS: 156 types of colors)\n",
    "- ```accident```: accidents the car has had in the past (BINARY)\n",
    "- ```clean_title```: is the title clean"
   ]
  },
  {
   "cell_type": "code",
   "execution_count": 4,
   "metadata": {},
   "outputs": [
    {
     "name": "stdout",
     "output_type": "stream",
     "text": [
      "id              188533\n",
      "brand               57\n",
      "model             1897\n",
      "model_year          34\n",
      "milage            6651\n",
      "fuel_type            7\n",
      "engine            1117\n",
      "transmission        52\n",
      "ext_col            319\n",
      "int_col            156\n",
      "accident             2\n",
      "clean_title          1\n",
      "price             1569\n",
      "dtype: int64\n"
     ]
    }
   ],
   "source": [
    "# Get the number of unique classes for each categorical feature\n",
    "unique_counts = data.nunique()\n",
    "\n",
    "# Print or view the results\n",
    "print(unique_counts)"
   ]
  },
  {
   "cell_type": "markdown",
   "metadata": {},
   "source": [
    "## PLAN\n",
    "\n",
    "Handle Missing Values\n",
    "\n",
    "- ```fuel_type```: This column has some missing values that will be dropped because this reduces the dataset by only about 2.7%\n",
    "\n",
    "- ```accident```: This column has some missing values that will be dropped because this reduces the dataset by only about 1.3%\n",
    "\n",
    "- ```clean_title```: It has a significant number of missing values but the whole feature will be dropped\n",
    "\n",
    "Encode Categorical Vaues\n",
    "- ```accident``` is binary already but needs to be encoded with 1's and 0's\n",
    "- OneHotEncoding will be used for ```fuel_type```\n",
    "\n",
    "Feature Engineering\n",
    "- ```model_year```: Consider creating new features such as car_age (current year minus model_year) to capture how the age of the car affects the price.\n",
    "- ```milage```: This numeric feature can be used as-is but consider transformations (e.g., log transformation) if the distribution is skewed.\n",
    "\n",
    "Scaling Data"
   ]
  },
  {
   "cell_type": "markdown",
   "metadata": {},
   "source": [
    "## Handling Missing Values"
   ]
  },
  {
   "cell_type": "code",
   "execution_count": 5,
   "metadata": {},
   "outputs": [],
   "source": [
    "data.drop('clean_title', axis=1, inplace=True)\n",
    "data.drop('id', axis=1, inplace=True)"
   ]
  },
  {
   "cell_type": "code",
   "execution_count": 6,
   "metadata": {},
   "outputs": [
    {
     "data": {
      "text/plain": [
       "<bound method IndexOpsMixin.value_counts of brand              0\n",
       "model              0\n",
       "model_year         0\n",
       "milage             0\n",
       "fuel_type       5083\n",
       "engine             0\n",
       "transmission       0\n",
       "ext_col            0\n",
       "int_col            0\n",
       "accident        2452\n",
       "price              0\n",
       "dtype: int64>"
      ]
     },
     "execution_count": 6,
     "metadata": {},
     "output_type": "execute_result"
    }
   ],
   "source": [
    "data.isna().sum().value_counts"
   ]
  },
  {
   "cell_type": "code",
   "execution_count": 7,
   "metadata": {},
   "outputs": [],
   "source": [
    "# Drop rows where 'fuel_type' or 'accident' have missing values\n",
    "data.dropna(subset=['fuel_type', 'accident'], inplace=True)\n"
   ]
  },
  {
   "cell_type": "code",
   "execution_count": 8,
   "metadata": {},
   "outputs": [
    {
     "data": {
      "text/plain": [
       "<bound method IndexOpsMixin.value_counts of brand           0\n",
       "model           0\n",
       "model_year      0\n",
       "milage          0\n",
       "fuel_type       0\n",
       "engine          0\n",
       "transmission    0\n",
       "ext_col         0\n",
       "int_col         0\n",
       "accident        0\n",
       "price           0\n",
       "dtype: int64>"
      ]
     },
     "execution_count": 8,
     "metadata": {},
     "output_type": "execute_result"
    }
   ],
   "source": [
    "data.isna().sum().value_counts"
   ]
  },
  {
   "cell_type": "code",
   "execution_count": 9,
   "metadata": {},
   "outputs": [
    {
     "name": "stdout",
     "output_type": "stream",
     "text": [
      "<class 'pandas.core.frame.DataFrame'>\n",
      "Index: 181067 entries, 0 to 188532\n",
      "Data columns (total 11 columns):\n",
      " #   Column        Non-Null Count   Dtype \n",
      "---  ------        --------------   ----- \n",
      " 0   brand         181067 non-null  object\n",
      " 1   model         181067 non-null  object\n",
      " 2   model_year    181067 non-null  int64 \n",
      " 3   milage        181067 non-null  int64 \n",
      " 4   fuel_type     181067 non-null  object\n",
      " 5   engine        181067 non-null  object\n",
      " 6   transmission  181067 non-null  object\n",
      " 7   ext_col       181067 non-null  object\n",
      " 8   int_col       181067 non-null  object\n",
      " 9   accident      181067 non-null  object\n",
      " 10  price         181067 non-null  int64 \n",
      "dtypes: int64(3), object(8)\n",
      "memory usage: 16.6+ MB\n"
     ]
    }
   ],
   "source": [
    "data.info()"
   ]
  },
  {
   "cell_type": "code",
   "execution_count": null,
   "metadata": {},
   "outputs": [],
   "source": [
    "# Get the number of unique classes for each categorical feature\n",
    "unique_counts = data.nunique()\n",
    "\n",
    "# Print or view the results\n",
    "print(unique_counts)"
   ]
  },
  {
   "cell_type": "markdown",
   "metadata": {},
   "source": [
    "## Feature Engineering I\n",
    "\n",
    "Extract valuable information from obtaining the 'horsepower' and 'engine_size' values for each record from the 'engine' column.\n",
    "\n",
    "Create a binary column for whether or not the cars are luxury brands. \n",
    "\n",
    "Features to be engineered:\n",
    "\n",
    "- ```horsepower```\n",
    "- ```engine_size```\n",
    "- ```car_age```\n",
    "- ```milage_per_year```\n",
    "- ```power_to_weight_ratio```"
   ]
  },
  {
   "cell_type": "code",
   "execution_count": null,
   "metadata": {},
   "outputs": [],
   "source": [
    "data['engine']"
   ]
  },
  {
   "cell_type": "code",
   "execution_count": null,
   "metadata": {},
   "outputs": [],
   "source": [
    "import re\n",
    "# Define regex patterns to extract Horsepower (HP) and engine size (L)\n",
    "hp_pattern = re.compile(r'(\\d+(\\.\\d+)?)HP')\n",
    "engine_size_pattern = re.compile(r'(\\d+(\\.\\d+)?)L')"
   ]
  },
  {
   "cell_type": "code",
   "execution_count": null,
   "metadata": {},
   "outputs": [],
   "source": [
    "# function to extract horsepower info from 'engine' column\n",
    "def extract_horsepower(engine):\n",
    "    try:\n",
    "        return float(engine.split('HP')[0])\n",
    "    except:\n",
    "        return None\n",
    "\n",
    "# Function to extract HP\n",
    "def extract_hp(engine):\n",
    "    match = hp_pattern.search(engine)\n",
    "    return float(match.group(1)) if match else None\n",
    "\n"
   ]
  },
  {
   "cell_type": "code",
   "execution_count": null,
   "metadata": {},
   "outputs": [],
   "source": [
    "data['horsepower'] = data['engine'].apply(extract_hp)"
   ]
  },
  {
   "cell_type": "code",
   "execution_count": null,
   "metadata": {},
   "outputs": [],
   "source": [
    "data['horsepower'].isna().sum()"
   ]
  },
  {
   "cell_type": "code",
   "execution_count": null,
   "metadata": {},
   "outputs": [],
   "source": [
    "# function to extract engine_size info from 'engine' column\n",
    "def extract_engine_size(engine):\n",
    "    try:\n",
    "        return float(engine.split(' ')[1].replace('L', ''))\n",
    "    except:\n",
    "        return None\n",
    "\n",
    "# Function to extract engine size\n",
    "def extract_engine_size_L(engine):\n",
    "    match = engine_size_pattern.search(engine)\n",
    "    return float(match.group(1)) if match else None"
   ]
  },
  {
   "cell_type": "code",
   "execution_count": null,
   "metadata": {},
   "outputs": [],
   "source": [
    "data['engine_size'] = data['engine'].apply(extract_engine_size_L)"
   ]
  },
  {
   "cell_type": "code",
   "execution_count": null,
   "metadata": {},
   "outputs": [],
   "source": [
    "data['engine_size'].isna().sum()"
   ]
  },
  {
   "cell_type": "code",
   "execution_count": null,
   "metadata": {},
   "outputs": [],
   "source": [
    "luxury_brands =  ['Mercedes-Benz', 'BMW', 'Audi', 'Porsche', 'Land', \n",
    "                    'Lexus', 'Jaguar', 'Bentley', 'Maserati', 'Lamborghini', \n",
    "                    'Rolls-Royce', 'Ferrari', 'McLaren', 'Aston', 'Maybach']\n",
    "data['is_luxury_brand'] = data['brand'].apply(lambda x: 1 if x in luxury_brands else 0)"
   ]
  },
  {
   "cell_type": "code",
   "execution_count": null,
   "metadata": {},
   "outputs": [],
   "source": [
    "data"
   ]
  },
  {
   "cell_type": "code",
   "execution_count": null,
   "metadata": {},
   "outputs": [],
   "source": [
    "data.isna().sum().value_counts"
   ]
  },
  {
   "cell_type": "markdown",
   "metadata": {},
   "source": [
    "Let us investigate any patterns behind these missing rows."
   ]
  },
  {
   "cell_type": "code",
   "execution_count": null,
   "metadata": {},
   "outputs": [],
   "source": [
    "missing_values_rows = data[data['horsepower'].isnull() | data['engine_size'].isnull()]\n",
    "missing_values_rows"
   ]
  },
  {
   "cell_type": "code",
   "execution_count": null,
   "metadata": {},
   "outputs": [],
   "source": []
  },
  {
   "cell_type": "markdown",
   "metadata": {},
   "source": [
    "## Encode Categorical Values\n"
   ]
  },
  {
   "cell_type": "code",
   "execution_count": null,
   "metadata": {},
   "outputs": [],
   "source": [
    "# List of features to apply frequency encoding\n",
    "features_to_encode = ['brand', 'model', 'engine', 'transmission', 'ext_col', 'int_col']\n",
    "\n",
    "# Frequency encoding\n",
    "for feature in features_to_encode:\n",
    "    # Calculate frequency of each category\n",
    "    freq_encoding = data[feature].value_counts() / len(data)\n",
    "    \n",
    "    # Map frequencies to the original feature\n",
    "    data[feature] = data[feature].map(freq_encoding)\n"
   ]
  },
  {
   "cell_type": "code",
   "execution_count": 10,
   "metadata": {},
   "outputs": [],
   "source": [
    "### TARGET ENCODING ###\n",
    "features_to_encode = ['brand', 'model', 'engine', 'transmission', 'ext_col', 'int_col']\n",
    "# Initialize the target encoder\n",
    "target_encoder = TargetEncoder(cols=features_to_encode, smoothing=0.3)\n",
    "# Apply target encoding\n",
    "target_encoded = target_encoder.fit_transform(data[features_to_encode], data['price'])\n",
    "\n",
    "# Drop the original categorical columns\n",
    "data.drop(features_to_encode, axis=1, inplace=True)"
   ]
  },
  {
   "cell_type": "code",
   "execution_count": 11,
   "metadata": {},
   "outputs": [
    {
     "name": "stdout",
     "output_type": "stream",
     "text": [
      "accident\n",
      "0    139724\n",
      "1     41343\n",
      "Name: count, dtype: int64\n"
     ]
    }
   ],
   "source": [
    "# Replace values in the 'accident' column\n",
    "data['accident'] = data['accident'].map({\n",
    "    'None reported': 0,\n",
    "    'At least 1 accident or damage reported': 1\n",
    "})\n",
    "\n",
    "# Verify the transformation\n",
    "print(data['accident'].value_counts())"
   ]
  },
  {
   "cell_type": "code",
   "execution_count": 12,
   "metadata": {},
   "outputs": [
    {
     "data": {
      "text/html": [
       "<div>\n",
       "<style scoped>\n",
       "    .dataframe tbody tr th:only-of-type {\n",
       "        vertical-align: middle;\n",
       "    }\n",
       "\n",
       "    .dataframe tbody tr th {\n",
       "        vertical-align: top;\n",
       "    }\n",
       "\n",
       "    .dataframe thead th {\n",
       "        text-align: right;\n",
       "    }\n",
       "</style>\n",
       "<table border=\"1\" class=\"dataframe\">\n",
       "  <thead>\n",
       "    <tr style=\"text-align: right;\">\n",
       "      <th></th>\n",
       "      <th>brand</th>\n",
       "      <th>model</th>\n",
       "      <th>engine</th>\n",
       "      <th>transmission</th>\n",
       "      <th>ext_col</th>\n",
       "      <th>int_col</th>\n",
       "    </tr>\n",
       "  </thead>\n",
       "  <tbody>\n",
       "    <tr>\n",
       "      <th>0</th>\n",
       "      <td>16995.387619</td>\n",
       "      <td>12848.536585</td>\n",
       "      <td>11416.727273</td>\n",
       "      <td>30039.905922</td>\n",
       "      <td>43016.981033</td>\n",
       "      <td>27726.614211</td>\n",
       "    </tr>\n",
       "    <tr>\n",
       "      <th>1</th>\n",
       "      <td>30581.219992</td>\n",
       "      <td>12663.379310</td>\n",
       "      <td>12183.759494</td>\n",
       "      <td>30039.905922</td>\n",
       "      <td>31231.931601</td>\n",
       "      <td>29410.689561</td>\n",
       "    </tr>\n",
       "    <tr>\n",
       "      <th>2</th>\n",
       "      <td>41684.053283</td>\n",
       "      <td>23882.622951</td>\n",
       "      <td>18401.259591</td>\n",
       "      <td>30039.905922</td>\n",
       "      <td>39660.556258</td>\n",
       "      <td>27726.614211</td>\n",
       "    </tr>\n",
       "    <tr>\n",
       "      <th>3</th>\n",
       "      <td>53042.539432</td>\n",
       "      <td>47788.351064</td>\n",
       "      <td>41781.259459</td>\n",
       "      <td>49990.205333</td>\n",
       "      <td>41961.300670</td>\n",
       "      <td>44932.357761</td>\n",
       "    </tr>\n",
       "    <tr>\n",
       "      <th>4</th>\n",
       "      <td>51065.490921</td>\n",
       "      <td>64395.837209</td>\n",
       "      <td>37189.376093</td>\n",
       "      <td>46927.939397</td>\n",
       "      <td>41961.300670</td>\n",
       "      <td>29410.689561</td>\n",
       "    </tr>\n",
       "  </tbody>\n",
       "</table>\n",
       "</div>"
      ],
      "text/plain": [
       "          brand         model        engine  transmission       ext_col  \\\n",
       "0  16995.387619  12848.536585  11416.727273  30039.905922  43016.981033   \n",
       "1  30581.219992  12663.379310  12183.759494  30039.905922  31231.931601   \n",
       "2  41684.053283  23882.622951  18401.259591  30039.905922  39660.556258   \n",
       "3  53042.539432  47788.351064  41781.259459  49990.205333  41961.300670   \n",
       "4  51065.490921  64395.837209  37189.376093  46927.939397  41961.300670   \n",
       "\n",
       "        int_col  \n",
       "0  27726.614211  \n",
       "1  29410.689561  \n",
       "2  27726.614211  \n",
       "3  44932.357761  \n",
       "4  29410.689561  "
      ]
     },
     "execution_count": 12,
     "metadata": {},
     "output_type": "execute_result"
    }
   ],
   "source": [
    "target_encoded.head()"
   ]
  },
  {
   "cell_type": "code",
   "execution_count": 13,
   "metadata": {},
   "outputs": [],
   "source": [
    "numerical_features = ['brand', 'model', 'engine', 'transmission', 'ext_col', 'int_col']\n",
    "scaler = StandardScaler()\n",
    "array_scaled1 = scaler.fit_transform(target_encoded[numerical_features])\n",
    "data_scaled1_cols = target_encoded.columns\n",
    "\n",
    "data1_scaled = pd.DataFrame(array_scaled1, columns=data_scaled1_cols)"
   ]
  },
  {
   "cell_type": "code",
   "execution_count": null,
   "metadata": {},
   "outputs": [],
   "source": []
  },
  {
   "cell_type": "code",
   "execution_count": null,
   "metadata": {},
   "outputs": [],
   "source": []
  },
  {
   "cell_type": "code",
   "execution_count": 15,
   "metadata": {},
   "outputs": [
    {
     "data": {
      "text/html": [
       "<div>\n",
       "<style scoped>\n",
       "    .dataframe tbody tr th:only-of-type {\n",
       "        vertical-align: middle;\n",
       "    }\n",
       "\n",
       "    .dataframe tbody tr th {\n",
       "        vertical-align: top;\n",
       "    }\n",
       "\n",
       "    .dataframe thead th {\n",
       "        text-align: right;\n",
       "    }\n",
       "</style>\n",
       "<table border=\"1\" class=\"dataframe\">\n",
       "  <thead>\n",
       "    <tr style=\"text-align: right;\">\n",
       "      <th></th>\n",
       "      <th>model_year</th>\n",
       "      <th>milage</th>\n",
       "      <th>fuel_type</th>\n",
       "      <th>accident</th>\n",
       "      <th>price</th>\n",
       "    </tr>\n",
       "  </thead>\n",
       "  <tbody>\n",
       "    <tr>\n",
       "      <th>0</th>\n",
       "      <td>2007</td>\n",
       "      <td>213000</td>\n",
       "      <td>Gasoline</td>\n",
       "      <td>0</td>\n",
       "      <td>4200</td>\n",
       "    </tr>\n",
       "    <tr>\n",
       "      <th>1</th>\n",
       "      <td>2002</td>\n",
       "      <td>143250</td>\n",
       "      <td>Gasoline</td>\n",
       "      <td>1</td>\n",
       "      <td>4999</td>\n",
       "    </tr>\n",
       "    <tr>\n",
       "      <th>2</th>\n",
       "      <td>2002</td>\n",
       "      <td>136731</td>\n",
       "      <td>E85 Flex Fuel</td>\n",
       "      <td>0</td>\n",
       "      <td>13900</td>\n",
       "    </tr>\n",
       "    <tr>\n",
       "      <th>3</th>\n",
       "      <td>2017</td>\n",
       "      <td>19500</td>\n",
       "      <td>Gasoline</td>\n",
       "      <td>0</td>\n",
       "      <td>45000</td>\n",
       "    </tr>\n",
       "    <tr>\n",
       "      <th>4</th>\n",
       "      <td>2021</td>\n",
       "      <td>7388</td>\n",
       "      <td>Gasoline</td>\n",
       "      <td>0</td>\n",
       "      <td>97500</td>\n",
       "    </tr>\n",
       "  </tbody>\n",
       "</table>\n",
       "</div>"
      ],
      "text/plain": [
       "   model_year  milage      fuel_type  accident  price\n",
       "0        2007  213000       Gasoline         0   4200\n",
       "1        2002  143250       Gasoline         1   4999\n",
       "2        2002  136731  E85 Flex Fuel         0  13900\n",
       "3        2017   19500       Gasoline         0  45000\n",
       "4        2021    7388       Gasoline         0  97500"
      ]
     },
     "execution_count": 15,
     "metadata": {},
     "output_type": "execute_result"
    }
   ],
   "source": [
    "data.head()"
   ]
  },
  {
   "cell_type": "code",
   "execution_count": 16,
   "metadata": {},
   "outputs": [],
   "source": [
    "data2_columns = ['model_year', 'milage']\n",
    "scaler = StandardScaler()\n",
    "array_scaled2 = scaler.fit_transform(data[data2_columns])\n",
    "\n",
    "\n",
    "data2_scaled = pd.DataFrame(array_scaled2, columns=['model_year', 'milage'])"
   ]
  },
  {
   "cell_type": "code",
   "execution_count": null,
   "metadata": {},
   "outputs": [],
   "source": [
    "# Add the `price` column back to the scaled DataFrame for the first DataFrame\n",
    "data_scaled[data.columns.difference(data_columns_to_scale)] = data[data.columns.difference(data_columns_to_scale)]"
   ]
  },
  {
   "cell_type": "code",
   "execution_count": null,
   "metadata": {},
   "outputs": [],
   "source": [
    "\n",
    "fuel_type = data[['fuel_type']]\n",
    "\n",
    "cat_encoder = OneHotEncoder(sparse_output=False)\n",
    "fuel_type_1hot = cat_encoder.fit_transform(fuel_type)\n",
    "\n",
    "# Convert the OneHotEncoded Data to a DataFrame\n",
    "fuel_type_1hot_df = pd.DataFrame(fuel_type_1hot, columns=cat_encoder.get_feature_names_out(['fuel_type']))\n",
    "\n",
    "fuel_type_1hot_df.head()"
   ]
  },
  {
   "cell_type": "code",
   "execution_count": null,
   "metadata": {},
   "outputs": [],
   "source": []
  },
  {
   "cell_type": "code",
   "execution_count": null,
   "metadata": {},
   "outputs": [],
   "source": [
    "def combine_dataframes(data1, data2, data3):\n",
    "    # Reset indices of both DataFrames\n",
    "    data1.reset_index(drop=True, inplace=True)\n",
    "    data2.reset_index(drop=True, inplace=True)\n",
    "    data3.reset_index(drop=True, inplace=True)\n",
    "\n",
    "    # Concatenate the Encoded Data with the Original DataFrame\n",
    "    data_processed = pd.concat([data1, data2, data3], axis=1)\n",
    "\n",
    "    # Step 4: Drop the Original 'fuel_type' Column\n",
    "    data_processed.drop('fuel_type', axis=1, inplace=True)\n",
    "\n",
    "    return data_processed"
   ]
  },
  {
   "cell_type": "code",
   "execution_count": null,
   "metadata": {},
   "outputs": [],
   "source": [
    "baseline_data = combine_dataframes(target_encoded, data, fuel_type_1hot_df)"
   ]
  },
  {
   "cell_type": "code",
   "execution_count": null,
   "metadata": {},
   "outputs": [],
   "source": [
    "numerical_features = ['brand', 'model', 'engine', 'transmission', 'ext_col', 'int_col', 'model_year', 'milage', 'price']\n",
    "scaler = StandardScaler()\n",
    "baseline_data = scaler.fit_transform(baseline_data[numerical_features])"
   ]
  },
  {
   "cell_type": "code",
   "execution_count": null,
   "metadata": {},
   "outputs": [],
   "source": [
    "# baseline_data.to_csv('data/processed/baseline_data.csv')"
   ]
  },
  {
   "cell_type": "markdown",
   "metadata": {},
   "source": [
    "## Feature Engineering II"
   ]
  },
  {
   "cell_type": "code",
   "execution_count": null,
   "metadata": {},
   "outputs": [],
   "source": []
  },
  {
   "cell_type": "code",
   "execution_count": null,
   "metadata": {},
   "outputs": [],
   "source": [
    "def feature_engineering(data):\n",
    "    data[\"car_age\"] = 2024 - data[\"model_year\"]\n",
    "    data['mileage_per_year'] = data['milage'] / data['car_age']\n",
    "    data['power_to_weight_ratio'] = data['horsepower'] / data['engine_size']\n",
    "    return data"
   ]
  },
  {
   "cell_type": "code",
   "execution_count": null,
   "metadata": {},
   "outputs": [],
   "source": [
    "feature_engineered_data = feature_engineering(data)\n",
    "feature_engineered_data"
   ]
  },
  {
   "cell_type": "markdown",
   "metadata": {},
   "source": [
    "## Scaling Numerical Features"
   ]
  },
  {
   "cell_type": "code",
   "execution_count": null,
   "metadata": {},
   "outputs": [],
   "source": [
    "numerical_features = ['model_year', 'milage', 'car_age']\n",
    "scaler = StandardScaler()\n",
    "data[numerical_features] = scaler.fit_transform(data[numerical_features])"
   ]
  },
  {
   "cell_type": "code",
   "execution_count": null,
   "metadata": {},
   "outputs": [],
   "source": []
  },
  {
   "cell_type": "code",
   "execution_count": null,
   "metadata": {},
   "outputs": [],
   "source": []
  },
  {
   "cell_type": "code",
   "execution_count": null,
   "metadata": {},
   "outputs": [],
   "source": []
  },
  {
   "cell_type": "code",
   "execution_count": null,
   "metadata": {},
   "outputs": [],
   "source": []
  },
  {
   "cell_type": "markdown",
   "metadata": {},
   "source": [
    "Combine One Hot Encoded Categories"
   ]
  },
  {
   "cell_type": "code",
   "execution_count": null,
   "metadata": {},
   "outputs": [],
   "source": [
    "# Convert the Encoded Data to a DataFrame\n",
    "fuel_type_1hot_df = pd.DataFrame(fuel_type_1hot, columns=cat_encoder.get_feature_names_out(['fuel_type']))"
   ]
  },
  {
   "cell_type": "code",
   "execution_count": null,
   "metadata": {},
   "outputs": [],
   "source": [
    "data.isna().sum().value_counts"
   ]
  },
  {
   "cell_type": "code",
   "execution_count": null,
   "metadata": {},
   "outputs": [],
   "source": [
    "# Reset indices of both DataFrames\n",
    "data.reset_index(drop=True, inplace=True)\n",
    "fuel_type_1hot_df.reset_index(drop=True, inplace=True)"
   ]
  },
  {
   "cell_type": "code",
   "execution_count": null,
   "metadata": {},
   "outputs": [],
   "source": []
  },
  {
   "cell_type": "code",
   "execution_count": null,
   "metadata": {},
   "outputs": [],
   "source": []
  },
  {
   "cell_type": "code",
   "execution_count": null,
   "metadata": {},
   "outputs": [],
   "source": []
  },
  {
   "cell_type": "code",
   "execution_count": null,
   "metadata": {},
   "outputs": [],
   "source": [
    "# Concatenate the Encoded Data with the Original DataFrame\n",
    "data_processed = pd.concat([data, fuel_type_1hot_df], axis=1)\n"
   ]
  },
  {
   "cell_type": "code",
   "execution_count": null,
   "metadata": {},
   "outputs": [],
   "source": [
    "# Step 4: Drop the Original 'fuel_type' Column\n",
    "data_processed.drop('fuel_type', axis=1, inplace=True)"
   ]
  },
  {
   "cell_type": "code",
   "execution_count": null,
   "metadata": {},
   "outputs": [],
   "source": [
    "data_processed"
   ]
  },
  {
   "cell_type": "code",
   "execution_count": null,
   "metadata": {},
   "outputs": [],
   "source": [
    "# train_data_processed = data_processed.drop('price', axis = 1)\n",
    "# train_labels_processed = data_processed['price']"
   ]
  },
  {
   "cell_type": "code",
   "execution_count": null,
   "metadata": {},
   "outputs": [],
   "source": [
    "# train_data_processed.to_csv('../data/processed/train_data_processed.csv')\n",
    "# train_labels_processed.to_csv('../data/processed/train_labels_processed.csv')"
   ]
  },
  {
   "cell_type": "code",
   "execution_count": null,
   "metadata": {},
   "outputs": [],
   "source": []
  }
 ],
 "metadata": {
  "kernelspec": {
   "display_name": "Python 3.12.3 ('used-car-price-regression-Uwo-syZO-py3.12')",
   "language": "python",
   "name": "python3"
  },
  "language_info": {
   "codemirror_mode": {
    "name": "ipython",
    "version": 3
   },
   "file_extension": ".py",
   "mimetype": "text/x-python",
   "name": "python",
   "nbconvert_exporter": "python",
   "pygments_lexer": "ipython3",
   "version": "3.12.3"
  },
  "vscode": {
   "interpreter": {
    "hash": "286c6dac2e790866c2ecb3e586705e6859dc25d6f909138758e18a95322bcca7"
   }
  }
 },
 "nbformat": 4,
 "nbformat_minor": 2
}
